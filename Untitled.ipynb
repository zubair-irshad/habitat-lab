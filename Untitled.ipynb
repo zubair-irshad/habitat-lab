{
 "cells": [
  {
   "cell_type": "code",
   "execution_count": 1,
   "metadata": {},
   "outputs": [
    {
     "name": "stdout",
     "output_type": "stream",
     "text": [
      "196\n",
      "544\n",
      "5\n",
      "4\n",
      "30\n",
      "594\n",
      "301\n",
      "28\n",
      "542\n",
      "195\n",
      "6\n",
      "29\n",
      "299\n",
      "543\n",
      "300\n",
      "593\n",
      "194\n"
     ]
    }
   ],
   "source": [
    "import gzip\n",
    "import json\n",
    "val_data_path = '/home/mirshad7/habitat-lab/data/datasets/vln/mp3d/r2r/v1/val_seen/val_seen.json.gz'\n",
    "\n",
    "new_path = '/home/mirshad7/habitat-lab/data/datasets/vln/mp3d/r2r/v1/test/test.json.gz'\n",
    "\n",
    "vlnce_path = '/home/mirshad7/Downloads/R2R_VLNCE_v1_preprocessed/train/train.json.gz'\n",
    "\n",
    "robo_vln = '/home/mirshad7/habitat-lab/data/datasets/vln/mp3d/r2r/robo_vln/val_seen/val_seen.json.gz'\n",
    "with gzip.open(robo_vln, \"rt\") as f:\n",
    "    deserialized = json.loads(f.read())\n",
    "    \n",
    "with gzip.open(vlnce_path, \"rt\") as f:\n",
    "    deserialized1 = json.loads(f.read())\n",
    "\n",
    "# train_ids ={}\n",
    "for i in range(len(deserialized['episodes'])):\n",
    "    print(deserialized['episodes'][i]['episode_id'])\n",
    "# print(deserialized['episodes'][1])\n",
    "# print(\"--------------------------------------------------------------\")\n",
    "# print(deserialized1['episodes'][1])\n",
    "\n",
    "# for episode in deserialized['episodes']:\n",
    "#     print(episode.episode_id)"
   ]
  },
  {
   "cell_type": "code",
   "execution_count": 3,
   "metadata": {},
   "outputs": [
    {
     "name": "stdout",
     "output_type": "stream",
     "text": [
      "11\n"
     ]
    }
   ],
   "source": [
    "print(len(deserialized['episodes']))"
   ]
  },
  {
   "cell_type": "code",
   "execution_count": 9,
   "metadata": {},
   "outputs": [
    {
     "name": "stdout",
     "output_type": "stream",
     "text": [
      "777\n"
     ]
    }
   ],
   "source": [
    "print(train_ids[778])"
   ]
  },
  {
   "cell_type": "code",
   "execution_count": null,
   "metadata": {},
   "outputs": [],
   "source": []
  }
 ],
 "metadata": {
  "kernelspec": {
   "display_name": "habitat",
   "language": "python",
   "name": "habitat"
  },
  "language_info": {
   "codemirror_mode": {
    "name": "ipython",
    "version": 3
   },
   "file_extension": ".py",
   "mimetype": "text/x-python",
   "name": "python",
   "nbconvert_exporter": "python",
   "pygments_lexer": "ipython3",
   "version": "3.6.10"
  }
 },
 "nbformat": 4,
 "nbformat_minor": 4
}
